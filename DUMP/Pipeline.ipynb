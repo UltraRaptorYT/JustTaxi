{
 "cells": [
  {
   "cell_type": "code",
   "execution_count": null,
   "metadata": {},
   "outputs": [],
   "source": []
  }
 ],
 "metadata": {
  "kernelspec": {
   "display_name": "base",
   "language": "python",
   "name": "python3"
  },
  "language_info": {
   "name": "python",
   "version": "3.8.8 (default, Apr 13 2021, 15:08:03) [MSC v.1916 64 bit (AMD64)]"
  },
  "orig_nbformat": 4,
  "vscode": {
   "interpreter": {
    "hash": "52e983d99f1ee1724ebc56d243e629cbda5dd70db685e0d43d347a5d2175e1e1"
   }
  }
 },
 "nbformat": 4,
 "nbformat_minor": 2
}
